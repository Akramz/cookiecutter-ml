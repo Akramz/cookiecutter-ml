{
 "cells": [
  {
   "cell_type": "markdown",
   "id": "b2fd7055",
   "metadata": {},
   "source": [
    "# Exploratory Data Analysis"
   ]
  },
  {
   "cell_type": "code",
   "execution_count": 1,
   "id": "7743b98d",
   "metadata": {},
   "outputs": [
    {
     "name": "stdout",
     "output_type": "stream",
     "text": [
      "Automatic pdb calling has been turned ON\n"
     ]
    }
   ],
   "source": [
    "%load_ext autoreload\n",
    "%autoreload 2\n",
    "%pdb on"
   ]
  },
  {
   "cell_type": "markdown",
   "id": "912b85ab",
   "metadata": {},
   "source": [
    "## Create a copy of the data for exploration, and sample it down if necessary"
   ]
  },
  {
   "cell_type": "code",
   "execution_count": null,
   "id": "40d5bdde",
   "metadata": {},
   "outputs": [],
   "source": []
  },
  {
   "cell_type": "markdown",
   "id": "3af0e103",
   "metadata": {},
   "source": [
    "## Study each attribute and its characteristics\n",
    "\n",
    "Tools: [pandas-profiling](https://github.com/ydataai/pandas-profiling) & [Lux](https://github.com/lux-org/lux).\n",
    "\n",
    "Inspect the following:\n",
    "- `Name`\n",
    "- `Type` (Categorical, Continuous, Int/Float, Structured/Unstructured, Text ..)\n",
    "- `%` of missing values\n",
    "- `Range` of the variable\n",
    "- The `distribution` over the range"
   ]
  },
  {
   "cell_type": "code",
   "execution_count": null,
   "id": "1cd07d37",
   "metadata": {},
   "outputs": [],
   "source": []
  },
  {
   "cell_type": "markdown",
   "id": "7f7cbfbf",
   "metadata": {},
   "source": [
    "## For supervised Learning tasks, Identify the target attribute"
   ]
  },
  {
   "cell_type": "code",
   "execution_count": null,
   "id": "3167fdc4",
   "metadata": {},
   "outputs": [],
   "source": []
  },
  {
   "cell_type": "markdown",
   "id": "af884045",
   "metadata": {},
   "source": [
    "## Visualize relations between features (2D/3D)"
   ]
  },
  {
   "cell_type": "code",
   "execution_count": null,
   "id": "8966e4c1",
   "metadata": {},
   "outputs": [],
   "source": []
  },
  {
   "cell_type": "markdown",
   "id": "5da0d1f3",
   "metadata": {},
   "source": [
    "## Study the correlations between attributes"
   ]
  },
  {
   "cell_type": "code",
   "execution_count": null,
   "id": "a4822bf7",
   "metadata": {},
   "outputs": [],
   "source": []
  },
  {
   "cell_type": "markdown",
   "id": "e26a864d",
   "metadata": {},
   "source": [
    "## Study how you would solve the problem manually"
   ]
  },
  {
   "cell_type": "code",
   "execution_count": null,
   "id": "46062a61",
   "metadata": {},
   "outputs": [],
   "source": []
  },
  {
   "cell_type": "markdown",
   "id": "659f6606",
   "metadata": {},
   "source": [
    "## Identify the data transformations you may want to apply"
   ]
  },
  {
   "cell_type": "code",
   "execution_count": null,
   "id": "33ca5ff1",
   "metadata": {},
   "outputs": [],
   "source": []
  },
  {
   "cell_type": "markdown",
   "id": "b9eadedc",
   "metadata": {},
   "source": [
    "## Document what you have learned"
   ]
  },
  {
   "cell_type": "code",
   "execution_count": null,
   "id": "086d8bb6",
   "metadata": {},
   "outputs": [],
   "source": []
  },
  {
   "cell_type": "markdown",
   "id": "179d5f6f",
   "metadata": {},
   "source": [
    "---"
   ]
  }
 ],
 "metadata": {
  "hide_input": false,
  "kernelspec": {
   "display_name": "Python 3 (ipykernel)",
   "language": "python",
   "name": "python3"
  },
  "language_info": {
   "codemirror_mode": {
    "name": "ipython",
    "version": 3
   },
   "file_extension": ".py",
   "mimetype": "text/x-python",
   "name": "python",
   "nbconvert_exporter": "python",
   "pygments_lexer": "ipython3",
   "version": "3.9.12"
  },
  "toc": {
   "base_numbering": 1,
   "nav_menu": {},
   "number_sections": true,
   "sideBar": true,
   "skip_h1_title": false,
   "title_cell": "Table of Contents",
   "title_sidebar": "Contents",
   "toc_cell": false,
   "toc_position": {},
   "toc_section_display": true,
   "toc_window_display": false
  },
  "varInspector": {
   "cols": {
    "lenName": 16,
    "lenType": 16,
    "lenVar": 40
   },
   "kernels_config": {
    "python": {
     "delete_cmd_postfix": "",
     "delete_cmd_prefix": "del ",
     "library": "var_list.py",
     "varRefreshCmd": "print(var_dic_list())"
    },
    "r": {
     "delete_cmd_postfix": ") ",
     "delete_cmd_prefix": "rm(",
     "library": "var_list.r",
     "varRefreshCmd": "cat(var_dic_list()) "
    }
   },
   "types_to_exclude": [
    "module",
    "function",
    "builtin_function_or_method",
    "instance",
    "_Feature"
   ],
   "window_display": false
  }
 },
 "nbformat": 4,
 "nbformat_minor": 5
}
