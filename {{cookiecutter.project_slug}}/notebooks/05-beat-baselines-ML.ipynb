{
 "cells": [
  {
   "cell_type": "markdown",
   "id": "0aff79c8",
   "metadata": {},
   "source": [
    "# ML: Beat the baseline"
   ]
  },
  {
   "cell_type": "code",
   "execution_count": 1,
   "id": "f3cf5fd5",
   "metadata": {},
   "outputs": [
    {
     "name": "stdout",
     "output_type": "stream",
     "text": [
      "Automatic pdb calling has been turned ON\n"
     ]
    }
   ],
   "source": [
    "%load_ext autoreload\n",
    "%autoreload 2\n",
    "%pdb on"
   ]
  },
  {
   "cell_type": "markdown",
   "id": "b215357e",
   "metadata": {},
   "source": [
    "## List candidate ML models"
   ]
  },
  {
   "cell_type": "code",
   "execution_count": null,
   "id": "0fae89f6",
   "metadata": {},
   "outputs": [],
   "source": []
  },
  {
   "cell_type": "markdown",
   "id": "add4f0fc",
   "metadata": {},
   "source": [
    "## Load the whole dataset"
   ]
  },
  {
   "cell_type": "code",
   "execution_count": null,
   "id": "cfb56523",
   "metadata": {},
   "outputs": [],
   "source": []
  },
  {
   "cell_type": "markdown",
   "id": "4f2215f3",
   "metadata": {},
   "source": [
    "## Start with a simple model"
   ]
  },
  {
   "cell_type": "code",
   "execution_count": null,
   "id": "98107897",
   "metadata": {},
   "outputs": [],
   "source": []
  },
  {
   "cell_type": "markdown",
   "id": "b9d310a7",
   "metadata": {},
   "source": [
    "## Create a training pipeline"
   ]
  },
  {
   "cell_type": "code",
   "execution_count": null,
   "id": "67444cdb",
   "metadata": {},
   "outputs": [],
   "source": []
  },
  {
   "cell_type": "markdown",
   "id": "b6ac4829",
   "metadata": {},
   "source": [
    "## Fine-tune hyper-parameters using cross-validation\n",
    "\n",
    "- Treat your data transformation choices as hyper-parameters\n",
    "- Unless there are few hyperparameters, random search > grid search.\n",
    "    - If training takes a long time, you may prefer Bayesian Optimization.\n",
    "- `Fine-tuning`\n",
    "    - Try `RandomizedSearchCV` if `GridSearchCV` is taking too long [[example](https://nbviewer.jupyter.org/github/justmarkham/scikit-learn-tips/blob/master/notebooks/17_randomized_search.ipynb)]\n",
    "    - Display `GridSearchCV` or `RandomizedSearchCV` results in a DataFrame [[example](https://nbviewer.jupyter.org/github/justmarkham/scikit-learn-tips/blob/master/notebooks/18_hyperparameter_search_results.ipynb)]\n",
    "    - Speed up `GridSearchCV` using parallel processing [[example](https://nbviewer.jupyter.org/github/justmarkham/scikit-learn-tips/blob/master/notebooks/44_parallel_processing.ipynb)]\n",
    "    - Tune multiple models simultaneously with `GridSearchCV` [[example](https://nbviewer.jupyter.org/github/justmarkham/scikit-learn-tips/blob/master/notebooks/49_tune_multiple_models.ipynb)]"
   ]
  },
  {
   "cell_type": "code",
   "execution_count": null,
   "id": "7fe1d374",
   "metadata": {},
   "outputs": [],
   "source": []
  },
  {
   "cell_type": "markdown",
   "id": "3a7e8632",
   "metadata": {},
   "source": [
    "## Beat the baseline"
   ]
  },
  {
   "cell_type": "code",
   "execution_count": null,
   "id": "29027c28",
   "metadata": {},
   "outputs": [],
   "source": []
  },
  {
   "cell_type": "markdown",
   "id": "62e19bdc",
   "metadata": {},
   "source": [
    "## Analyze the most significant variable for each algorithm"
   ]
  },
  {
   "cell_type": "code",
   "execution_count": null,
   "id": "34a63e45",
   "metadata": {},
   "outputs": [],
   "source": []
  },
  {
   "cell_type": "markdown",
   "id": "d38ea95a",
   "metadata": {},
   "source": [
    "## Perform a quick round of feature selection"
   ]
  },
  {
   "cell_type": "code",
   "execution_count": null,
   "id": "128dcd52",
   "metadata": {},
   "outputs": [],
   "source": []
  },
  {
   "cell_type": "markdown",
   "id": "80bc1e38",
   "metadata": {},
   "source": [
    "## Conduct error analysis & XAI on the erroneous predictions\n",
    "\n",
    "Options:\n",
    "- Plot a confusion matrix [[example](https://nbviewer.jupyter.org/github/justmarkham/scikit-learn-tips/blob/master/notebooks/20_plot_confusion_matrix.ipynb)]\n",
    "- Compare multiple ROC curves in a single plot [[example](https://nbviewer.jupyter.org/github/justmarkham/scikit-learn-tips/blob/master/notebooks/21_plot_roc_curve.ipynb)]\n",
    "- Use AUC to evaluate multiclass problems [[example](https://nbviewer.jupyter.org/github/justmarkham/scikit-learn-tips/blob/master/notebooks/32_multiclass_auc.ipynb)]\n",
    "- Ensemble models using `VotingClassifer` / `VotingRegressor` [[example](https://nbviewer.jupyter.org/github/justmarkham/scikit-learn-tips/blob/master/notebooks/46_ensembling.ipynb), [example](https://nbviewer.jupyter.org/github/justmarkham/scikit-learn-tips/blob/master/notebooks/47_ensemble_tuning.ipynb)]\n",
    "- Adapt this pattern to solve many Machine Learning problems [[pattern](https://nbviewer.jupyter.org/github/justmarkham/scikit-learn-tips/blob/master/notebooks/50_simple_ml_pattern.ipynb)]\n",
    "- Conduct Feature Importance\n",
    "- Test feature generalization\n",
    "    - Coverage is the % of the samples that has values for this feature in the data.\n",
    "    - Look into how feature distribution changes from train to test.\n",
    "\n",
    "Think about...\n",
    "- What data would a human use to avoid these errors?"
   ]
  },
  {
   "cell_type": "code",
   "execution_count": null,
   "id": "676dab1a",
   "metadata": {},
   "outputs": [],
   "source": []
  },
  {
   "cell_type": "markdown",
   "id": "f641b1b1",
   "metadata": {},
   "source": [
    "## Shortlist the top 3-to-5 most performant algorithms that make different types of errors"
   ]
  },
  {
   "cell_type": "code",
   "execution_count": null,
   "id": "650f9fb9",
   "metadata": {},
   "outputs": [],
   "source": []
  },
  {
   "cell_type": "markdown",
   "id": "923cd1cc",
   "metadata": {},
   "source": [
    "## Combine your best models to get better results"
   ]
  },
  {
   "cell_type": "code",
   "execution_count": null,
   "id": "d58bfacc",
   "metadata": {},
   "outputs": [],
   "source": []
  },
  {
   "cell_type": "markdown",
   "id": "6279b4ee",
   "metadata": {},
   "source": [
    "## Measure performance on the test set to estimate the generalization error"
   ]
  },
  {
   "cell_type": "code",
   "execution_count": null,
   "id": "7e07040c",
   "metadata": {},
   "outputs": [],
   "source": []
  },
  {
   "cell_type": "markdown",
   "id": "65c4b3e4",
   "metadata": {},
   "source": [
    "---"
   ]
  }
 ],
 "metadata": {
  "hide_input": false,
  "kernelspec": {
   "display_name": "Python 3 (ipykernel)",
   "language": "python",
   "name": "python3"
  },
  "language_info": {
   "codemirror_mode": {
    "name": "ipython",
    "version": 3
   },
   "file_extension": ".py",
   "mimetype": "text/x-python",
   "name": "python",
   "nbconvert_exporter": "python",
   "pygments_lexer": "ipython3",
   "version": "3.9.12"
  },
  "toc": {
   "base_numbering": 1,
   "nav_menu": {},
   "number_sections": true,
   "sideBar": true,
   "skip_h1_title": false,
   "title_cell": "Table of Contents",
   "title_sidebar": "Contents",
   "toc_cell": false,
   "toc_position": {},
   "toc_section_display": true,
   "toc_window_display": false
  },
  "varInspector": {
   "cols": {
    "lenName": 16,
    "lenType": 16,
    "lenVar": 40
   },
   "kernels_config": {
    "python": {
     "delete_cmd_postfix": "",
     "delete_cmd_prefix": "del ",
     "library": "var_list.py",
     "varRefreshCmd": "print(var_dic_list())"
    },
    "r": {
     "delete_cmd_postfix": ") ",
     "delete_cmd_prefix": "rm(",
     "library": "var_list.r",
     "varRefreshCmd": "cat(var_dic_list()) "
    }
   },
   "types_to_exclude": [
    "module",
    "function",
    "builtin_function_or_method",
    "instance",
    "_Feature"
   ],
   "window_display": false
  }
 },
 "nbformat": 4,
 "nbformat_minor": 5
}
