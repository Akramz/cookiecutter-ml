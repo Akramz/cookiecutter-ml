{
 "cells": [
  {
   "cell_type": "markdown",
   "id": "4c5613cd",
   "metadata": {},
   "source": [
    "# Data Collection"
   ]
  },
  {
   "cell_type": "code",
   "execution_count": 1,
   "id": "b32cd33d",
   "metadata": {},
   "outputs": [
    {
     "name": "stdout",
     "output_type": "stream",
     "text": [
      "Automatic pdb calling has been turned ON\n"
     ]
    }
   ],
   "source": [
    "%load_ext autoreload\n",
    "%autoreload 2\n",
    "%pdb on"
   ]
  },
  {
   "cell_type": "markdown",
   "id": "d5499e02",
   "metadata": {},
   "source": [
    "## Motivation"
   ]
  },
  {
   "cell_type": "markdown",
   "id": "258e0bab",
   "metadata": {},
   "source": [
    "#### Re-introduce the problem to be solved"
   ]
  },
  {
   "cell_type": "code",
   "execution_count": null,
   "id": "40a54b00",
   "metadata": {},
   "outputs": [],
   "source": []
  },
  {
   "cell_type": "markdown",
   "id": "429caf44",
   "metadata": {},
   "source": [
    "#### Do you already have a dataset? \n",
    "\n",
    "If yes, skip to next section."
   ]
  },
  {
   "cell_type": "code",
   "execution_count": null,
   "id": "0ae381d8",
   "metadata": {},
   "outputs": [],
   "source": []
  },
  {
   "cell_type": "markdown",
   "id": "1609838f",
   "metadata": {},
   "source": [
    "#### List potential data sources to solve the described problem"
   ]
  },
  {
   "cell_type": "code",
   "execution_count": null,
   "id": "2adf87d7",
   "metadata": {},
   "outputs": [],
   "source": []
  },
  {
   "cell_type": "markdown",
   "id": "d922aef4",
   "metadata": {},
   "source": [
    "#### Find & Document where you can get that data"
   ]
  },
  {
   "cell_type": "code",
   "execution_count": null,
   "id": "a9e6e4b0",
   "metadata": {},
   "outputs": [],
   "source": []
  },
  {
   "cell_type": "markdown",
   "id": "6535308b",
   "metadata": {},
   "source": [
    "#### Filter the list to include the most promising data sources"
   ]
  },
  {
   "cell_type": "code",
   "execution_count": null,
   "id": "7d9a2ae3",
   "metadata": {},
   "outputs": [],
   "source": []
  },
  {
   "cell_type": "markdown",
   "id": "32e9b851",
   "metadata": {},
   "source": [
    "#### Check legal obligations & get authorization if necessary"
   ]
  },
  {
   "cell_type": "code",
   "execution_count": null,
   "id": "9a6cdc00",
   "metadata": {},
   "outputs": [],
   "source": []
  },
  {
   "cell_type": "markdown",
   "id": "59c8d824",
   "metadata": {},
   "source": [
    "#### Create a workspace with enough storage space"
   ]
  },
  {
   "cell_type": "code",
   "execution_count": null,
   "id": "7aacaff3",
   "metadata": {},
   "outputs": [],
   "source": []
  },
  {
   "cell_type": "markdown",
   "id": "a0c5b2fa",
   "metadata": {},
   "source": [
    "#### Acquire the raw data for each data source"
   ]
  },
  {
   "cell_type": "code",
   "execution_count": null,
   "id": "9952cdeb",
   "metadata": {},
   "outputs": [],
   "source": []
  },
  {
   "cell_type": "markdown",
   "id": "f35be86b",
   "metadata": {},
   "source": [
    "#### Is there any preprocessing/cleaning/labeling of the raw data?\n",
    "\n",
    "Check the following data preparation techniques for each raw dataset:\n",
    "- Discretization or bucketing.\n",
    "- Tokenization, part-of-speech tagging.\n",
    "- SIFT feature extraction\n",
    "- Removal of instances\n",
    "- Processing of missing values.\n",
    "\n",
    "If Yes…\n",
    "- Was the \"raw\" data saved in addition to the preprocessed data?\n",
    "- Is the software used to preprocess/clean/label the instances available?"
   ]
  },
  {
   "cell_type": "code",
   "execution_count": null,
   "id": "d9e723a2",
   "metadata": {},
   "outputs": [],
   "source": []
  },
  {
   "cell_type": "markdown",
   "id": "b2f3548a",
   "metadata": {},
   "source": [
    "#### Convert each raw dataset into a format you can easily manipulate"
   ]
  },
  {
   "cell_type": "code",
   "execution_count": null,
   "id": "2db94fcd",
   "metadata": {},
   "outputs": [],
   "source": []
  },
  {
   "cell_type": "markdown",
   "id": "ce342bf9",
   "metadata": {},
   "source": [
    "#### Check the size & type of data\n",
    "\n",
    "Allocate enough compute for further processing."
   ]
  },
  {
   "cell_type": "code",
   "execution_count": null,
   "id": "64689f63",
   "metadata": {},
   "outputs": [],
   "source": []
  },
  {
   "cell_type": "markdown",
   "id": "9d24dc8f",
   "metadata": {},
   "source": [
    "#### Create the data instances using the different data sets"
   ]
  },
  {
   "cell_type": "code",
   "execution_count": null,
   "id": "6ac1ca40",
   "metadata": {},
   "outputs": [],
   "source": []
  },
  {
   "cell_type": "markdown",
   "id": "0ffe8d6d",
   "metadata": {},
   "source": [
    "## Composition"
   ]
  },
  {
   "cell_type": "markdown",
   "id": "f2c32aa9",
   "metadata": {},
   "source": [
    "#### How was the data associated with each instance acquired?"
   ]
  },
  {
   "cell_type": "code",
   "execution_count": null,
   "id": "c7b0c877",
   "metadata": {},
   "outputs": [],
   "source": []
  },
  {
   "cell_type": "markdown",
   "id": "93925e05",
   "metadata": {},
   "source": [
    "#### What do the instances that comprise the dataset represent?"
   ]
  },
  {
   "cell_type": "code",
   "execution_count": null,
   "id": "f16f3908",
   "metadata": {},
   "outputs": [],
   "source": []
  },
  {
   "cell_type": "markdown",
   "id": "eec3a39f",
   "metadata": {},
   "source": [
    "#### How many instances are they in total (of each type, if appropriate)?"
   ]
  },
  {
   "cell_type": "code",
   "execution_count": null,
   "id": "687b2d5d",
   "metadata": {},
   "outputs": [],
   "source": []
  },
  {
   "cell_type": "markdown",
   "id": "b360ee9f",
   "metadata": {},
   "source": [
    "#### Does the resulting dataset contain all instances or is it a sample from a larger set?"
   ]
  },
  {
   "cell_type": "code",
   "execution_count": null,
   "id": "3b1aa927",
   "metadata": {},
   "outputs": [],
   "source": []
  },
  {
   "cell_type": "markdown",
   "id": "62ac41a8",
   "metadata": {},
   "source": [
    "#### Is there a label or target associated with each instance? \n",
    "\n",
    "If so, please provide a description."
   ]
  },
  {
   "cell_type": "code",
   "execution_count": null,
   "id": "6e0da824",
   "metadata": {},
   "outputs": [],
   "source": []
  },
  {
   "cell_type": "markdown",
   "id": "a20133f7",
   "metadata": {},
   "source": [
    "#### Is any information missing from the individual instances?"
   ]
  },
  {
   "cell_type": "code",
   "execution_count": null,
   "id": "4fa425bb",
   "metadata": {},
   "outputs": [],
   "source": []
  },
  {
   "cell_type": "markdown",
   "id": "3650678a",
   "metadata": {},
   "source": [
    "#### Are there any relationships between the instances?"
   ]
  },
  {
   "cell_type": "code",
   "execution_count": null,
   "id": "797b93bc",
   "metadata": {},
   "outputs": [],
   "source": []
  },
  {
   "cell_type": "markdown",
   "id": "3c1716d4",
   "metadata": {},
   "source": [
    "#### How will you split the data (e.g. training, development/validation, testing)?"
   ]
  },
  {
   "cell_type": "code",
   "execution_count": null,
   "id": "e7a0b379",
   "metadata": {},
   "outputs": [],
   "source": []
  },
  {
   "cell_type": "markdown",
   "id": "087d9333",
   "metadata": {},
   "source": [
    "#### Are there any errors, sources of noise, or redundancies in the dataset?"
   ]
  },
  {
   "cell_type": "code",
   "execution_count": null,
   "id": "cc23a235",
   "metadata": {},
   "outputs": [],
   "source": []
  },
  {
   "cell_type": "markdown",
   "id": "90423335",
   "metadata": {},
   "source": [
    "#### Is the dataset self-contained, or does it rely on external resources?"
   ]
  },
  {
   "cell_type": "code",
   "execution_count": null,
   "id": "6eed76a9",
   "metadata": {},
   "outputs": [],
   "source": []
  },
  {
   "cell_type": "markdown",
   "id": "c18c739a",
   "metadata": {},
   "source": [
    "#### Does the dataset contain data that might be considered confidential?"
   ]
  },
  {
   "cell_type": "code",
   "execution_count": null,
   "id": "1cfe3a24",
   "metadata": {},
   "outputs": [],
   "source": []
  },
  {
   "cell_type": "markdown",
   "id": "99f7c809",
   "metadata": {},
   "source": [
    "## Assembly"
   ]
  },
  {
   "cell_type": "markdown",
   "id": "b4721c05",
   "metadata": {},
   "source": [
    "#### What are the procedures used to collect the data (e.g sensor, curation, program, API)?"
   ]
  },
  {
   "cell_type": "code",
   "execution_count": null,
   "id": "e5e0cb9b",
   "metadata": {},
   "outputs": [],
   "source": []
  },
  {
   "cell_type": "markdown",
   "id": "43de7791",
   "metadata": {},
   "source": [
    "#### How would you sample the training data?\n",
    "\n",
    "Consider the following options:\n",
    "- Non-probability Sampling\n",
    "    - Convenience*:* Samples of data are selected based on their availability.\n",
    "    - Snowball*:* Future samples are selected based on existing samples.\n",
    "    - Judgment: Experts decide what samples to include.\n",
    "    - Quota: select samples based on quotas for slices of data with no randomization.\n",
    "- Simple Random: give all samples equal probabilities of being selected.\n",
    "- Stratified: divide data into groups of interest & sample from each group separately.\n",
    "- Weighted: each sample is given a weight. Weights are used to sample.\n",
    "- Reservoir: for streaming data. Involves 3 steps.\n",
    "    1. Put the first *k* elements into the reservoir.\n",
    "    2. For each incoming *n***th** element, generate a random number *i* such that 1 ≤ *i* ≤ *n*.\n",
    "    3. If 1 ≤ *i* ≤ *k*: replace the *i***th** element in the reservoir with the *n***th** element. Else, do nothing.\n",
    "- Importance sampling for difficult-to-sample-from distributions."
   ]
  },
  {
   "cell_type": "code",
   "execution_count": null,
   "id": "922b5226",
   "metadata": {},
   "outputs": [],
   "source": []
  },
  {
   "cell_type": "markdown",
   "id": "f1e9515b",
   "metadata": {},
   "source": [
    "## Preprocessing / Cleaning / Labeling"
   ]
  },
  {
   "cell_type": "markdown",
   "id": "a6475c51",
   "metadata": {},
   "source": [
    "#### How do you intend to label the data?\n",
    "\n",
    "- Hand Labels. Issues:\n",
    "    - Slow labeling leads to slow iteration speed & makes your model less adaptive to changing environments and requirements.\n",
    "    - Label multiplicity: multiple label “perspectives” that come from different annotators.\n",
    "        - Solution: To minimize the disagreement among annotators, it’s important to first have a clear problem definition.\n",
    "    - Data lineage: Indiscriminately using data from multiple sources, generated by different annotators, w/o examining their quality can cause your model to fail.\n",
    "- Natural Labels."
   ]
  },
  {
   "cell_type": "code",
   "execution_count": null,
   "id": "485d5822",
   "metadata": {},
   "outputs": [],
   "source": []
  },
  {
   "cell_type": "markdown",
   "id": "e6954fb2",
   "metadata": {},
   "source": [
    "#### Is there a lack of labels? If yes, how will you handle it?\n",
    "\n",
    "Options:\n",
    "- Weak supervision: Leverages (often noisy) heuristics to generate labels.\n",
    "    - Approaches: *Keyword heuristic; Regular expressions; Database; model outputs.*\n",
    "- Semi-supervision: Leverages structural assumptions to generate labels.\n",
    "- Transfer learning: Leverages models pretrained on another task for your new task.\n",
    "- Active learning: Labels data samples that are most useful to your model"
   ]
  },
  {
   "cell_type": "code",
   "execution_count": null,
   "id": "2f097ac1",
   "metadata": {},
   "outputs": [],
   "source": []
  },
  {
   "cell_type": "markdown",
   "id": "13842bc6",
   "metadata": {},
   "source": [
    "#### Is there a class imbalance? If yes, how will you handle it?\n",
    "\n",
    "Steps:\n",
    "1. Use the right evaluation metrics: PRECISION, RECALL, F1, ROC.\n",
    "2. Data-level methods: Resampling\n",
    "3. Algorithm-level methods\n",
    "    - Cost-sensitive learning\n",
    "    - Class-balanced loss\n",
    "    - Focal loss"
   ]
  },
  {
   "cell_type": "code",
   "execution_count": null,
   "id": "bce2fbfc",
   "metadata": {},
   "outputs": [],
   "source": []
  },
  {
   "cell_type": "markdown",
   "id": "0a68a711",
   "metadata": {},
   "source": [
    "#### Do you need more data samples for training? If yes, how will you get/generate them?\n",
    "\n",
    "Options:\n",
    "- Simple Label-Preserving Transformations\n",
    "- Input Perturbation\n",
    "- Data Synthesis"
   ]
  },
  {
   "cell_type": "code",
   "execution_count": null,
   "id": "88e71a8d",
   "metadata": {},
   "outputs": [],
   "source": []
  },
  {
   "cell_type": "markdown",
   "id": "43c618a8",
   "metadata": {},
   "source": [
    "## Uses"
   ]
  },
  {
   "cell_type": "markdown",
   "id": "ed98b7ac",
   "metadata": {},
   "source": [
    "#### Has the dataset been used for any tasks already?"
   ]
  },
  {
   "cell_type": "code",
   "execution_count": null,
   "id": "542543b5",
   "metadata": {},
   "outputs": [],
   "source": []
  },
  {
   "cell_type": "markdown",
   "id": "97f1889e",
   "metadata": {},
   "source": [
    "#### Is there a repository that links to any or all papers or systems that use the dataset?"
   ]
  },
  {
   "cell_type": "code",
   "execution_count": null,
   "id": "e560a068",
   "metadata": {},
   "outputs": [],
   "source": []
  },
  {
   "cell_type": "markdown",
   "id": "c84f24de",
   "metadata": {},
   "source": [
    "#### What (other) tasks could the dataset be used for?"
   ]
  },
  {
   "cell_type": "code",
   "execution_count": null,
   "id": "ce110029",
   "metadata": {},
   "outputs": [],
   "source": []
  },
  {
   "cell_type": "markdown",
   "id": "9d6844ef",
   "metadata": {},
   "source": [
    "#### Is there anything about the composition of the dataset that might impact future uses?"
   ]
  },
  {
   "cell_type": "code",
   "execution_count": null,
   "id": "fa442280",
   "metadata": {},
   "outputs": [],
   "source": []
  },
  {
   "cell_type": "markdown",
   "id": "ff513750",
   "metadata": {},
   "source": [
    "#### Are there tasks for which the dataset should not be used?"
   ]
  },
  {
   "cell_type": "code",
   "execution_count": null,
   "id": "fedc29c5",
   "metadata": {},
   "outputs": [],
   "source": []
  },
  {
   "cell_type": "markdown",
   "id": "7706ac77",
   "metadata": {},
   "source": [
    "## Intent to distribution"
   ]
  },
  {
   "cell_type": "markdown",
   "id": "8d58a9d0",
   "metadata": {},
   "source": [
    "#### Will the dataset be distributed to third parties?"
   ]
  },
  {
   "cell_type": "code",
   "execution_count": null,
   "id": "630d3961",
   "metadata": {},
   "outputs": [],
   "source": []
  },
  {
   "cell_type": "markdown",
   "id": "dd5c714f",
   "metadata": {},
   "source": [
    "#### How will the dataset will be distributed (e.g. tarball on website, API, GitHub)?"
   ]
  },
  {
   "cell_type": "code",
   "execution_count": null,
   "id": "6acffa45",
   "metadata": {},
   "outputs": [],
   "source": []
  },
  {
   "cell_type": "markdown",
   "id": "ce707de9",
   "metadata": {},
   "source": [
    "#### When will the dataset be distributed?"
   ]
  },
  {
   "cell_type": "code",
   "execution_count": null,
   "id": "b1feafe0",
   "metadata": {},
   "outputs": [],
   "source": []
  },
  {
   "cell_type": "markdown",
   "id": "a2af050b",
   "metadata": {},
   "source": [
    "#### Will the dataset be distributed under the copyright or another IP license or ToU?"
   ]
  },
  {
   "cell_type": "code",
   "execution_count": null,
   "id": "45e6d3c8",
   "metadata": {},
   "outputs": [],
   "source": []
  },
  {
   "cell_type": "markdown",
   "id": "4879833e",
   "metadata": {},
   "source": [
    "#### Have any third parties imposed IP restrictions on the data associated with the instances?"
   ]
  },
  {
   "cell_type": "code",
   "execution_count": null,
   "id": "0ebb650b",
   "metadata": {},
   "outputs": [],
   "source": []
  },
  {
   "cell_type": "markdown",
   "id": "dea0ced4",
   "metadata": {},
   "source": [
    "#### Do any regulatory restrictions apply to the dataset or to individual instances?"
   ]
  },
  {
   "cell_type": "code",
   "execution_count": null,
   "id": "d08d8f34",
   "metadata": {},
   "outputs": [],
   "source": []
  },
  {
   "cell_type": "markdown",
   "id": "2cb0cb49",
   "metadata": {},
   "source": [
    "## Maintenance"
   ]
  },
  {
   "cell_type": "markdown",
   "id": "f9996514",
   "metadata": {},
   "source": [
    "#### Who is supporting/hosting/maintaining the dataset?"
   ]
  },
  {
   "cell_type": "code",
   "execution_count": null,
   "id": "7d1d6cf0",
   "metadata": {},
   "outputs": [],
   "source": []
  },
  {
   "cell_type": "markdown",
   "id": "db6e409f",
   "metadata": {},
   "source": [
    "#### How can the owner/curator/manager of the dataset be contacted (e.g. email address)?"
   ]
  },
  {
   "cell_type": "code",
   "execution_count": null,
   "id": "06b5d482",
   "metadata": {},
   "outputs": [],
   "source": []
  },
  {
   "cell_type": "markdown",
   "id": "7d5a7a7a",
   "metadata": {},
   "source": [
    "#### Will the dataset be updated (e.g. to correct labeling errors, add new instances, etc)?"
   ]
  },
  {
   "cell_type": "code",
   "execution_count": null,
   "id": "4dc3e2f0",
   "metadata": {},
   "outputs": [],
   "source": []
  },
  {
   "cell_type": "markdown",
   "id": "057a59b1",
   "metadata": {},
   "source": [
    "#### If the dataset relates to people, are applicable limits on the retention of the data?"
   ]
  },
  {
   "cell_type": "code",
   "execution_count": null,
   "id": "a31354e9",
   "metadata": {},
   "outputs": [],
   "source": []
  },
  {
   "cell_type": "markdown",
   "id": "699d7398",
   "metadata": {},
   "source": [
    "#### Will older versions of the dataset continue to be supported/hosted/maintained?"
   ]
  },
  {
   "cell_type": "code",
   "execution_count": null,
   "id": "7d7543a2",
   "metadata": {},
   "outputs": [],
   "source": []
  },
  {
   "cell_type": "markdown",
   "id": "ab44eb85",
   "metadata": {},
   "source": [
    "#### If others want to extend/augment/build on/contribute to the dataset, is it possible?"
   ]
  },
  {
   "cell_type": "code",
   "execution_count": null,
   "id": "75edc8c6",
   "metadata": {},
   "outputs": [],
   "source": []
  },
  {
   "cell_type": "markdown",
   "id": "13e1e1f2",
   "metadata": {},
   "source": [
    "---"
   ]
  }
 ],
 "metadata": {
  "hide_input": false,
  "kernelspec": {
   "display_name": "Python 3 (ipykernel)",
   "language": "python",
   "name": "python3"
  },
  "language_info": {
   "codemirror_mode": {
    "name": "ipython",
    "version": 3
   },
   "file_extension": ".py",
   "mimetype": "text/x-python",
   "name": "python",
   "nbconvert_exporter": "python",
   "pygments_lexer": "ipython3",
   "version": "3.9.12"
  },
  "toc": {
   "base_numbering": 1,
   "nav_menu": {},
   "number_sections": true,
   "sideBar": true,
   "skip_h1_title": false,
   "title_cell": "Table of Contents",
   "title_sidebar": "Contents",
   "toc_cell": false,
   "toc_position": {},
   "toc_section_display": true,
   "toc_window_display": false
  },
  "varInspector": {
   "cols": {
    "lenName": 16,
    "lenType": 16,
    "lenVar": 40
   },
   "kernels_config": {
    "python": {
     "delete_cmd_postfix": "",
     "delete_cmd_prefix": "del ",
     "library": "var_list.py",
     "varRefreshCmd": "print(var_dic_list())"
    },
    "r": {
     "delete_cmd_postfix": ") ",
     "delete_cmd_prefix": "rm(",
     "library": "var_list.r",
     "varRefreshCmd": "cat(var_dic_list()) "
    }
   },
   "types_to_exclude": [
    "module",
    "function",
    "builtin_function_or_method",
    "instance",
    "_Feature"
   ],
   "window_display": false
  }
 },
 "nbformat": 4,
 "nbformat_minor": 5
}
