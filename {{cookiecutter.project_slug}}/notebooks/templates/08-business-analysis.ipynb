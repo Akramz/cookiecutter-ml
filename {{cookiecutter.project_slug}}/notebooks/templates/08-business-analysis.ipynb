{
 "cells": [
  {
   "cell_type": "markdown",
   "id": "2fd2e8e9",
   "metadata": {},
   "source": [
    "# Business Analysis"
   ]
  },
  {
   "cell_type": "code",
   "execution_count": 1,
   "id": "55fe29ed",
   "metadata": {},
   "outputs": [
    {
     "name": "stdout",
     "output_type": "stream",
     "text": [
      "Automatic pdb calling has been turned ON\n"
     ]
    }
   ],
   "source": [
    "%load_ext autoreload\n",
    "%autoreload 2\n",
    "%pdb on"
   ]
  },
  {
   "cell_type": "markdown",
   "id": "5c8468fc",
   "metadata": {},
   "source": [
    "## Compare ML to Business baseline Performance"
   ]
  },
  {
   "cell_type": "code",
   "execution_count": null,
   "id": "041c922d",
   "metadata": {},
   "outputs": [],
   "source": []
  },
  {
   "cell_type": "markdown",
   "id": "f443579d",
   "metadata": {},
   "source": [
    "## Evaluate model performance against business goals\n",
    "\n",
    "Considerations:\n",
    "- A/B testing: how did the deployment of the model changed the business metrics.\n",
    "- Correlation between ML and business metrics."
   ]
  },
  {
   "cell_type": "code",
   "execution_count": null,
   "id": "57b2a802",
   "metadata": {},
   "outputs": [],
   "source": []
  },
  {
   "cell_type": "markdown",
   "id": "3c4fa905",
   "metadata": {},
   "source": [
    "## Generate business insights"
   ]
  },
  {
   "cell_type": "code",
   "execution_count": null,
   "id": "2a6d6371",
   "metadata": {},
   "outputs": [],
   "source": []
  },
  {
   "cell_type": "markdown",
   "id": "20cd2200",
   "metadata": {},
   "source": [
    "## Eliminate unproductive ML"
   ]
  },
  {
   "cell_type": "code",
   "execution_count": null,
   "id": "eea4b20a",
   "metadata": {},
   "outputs": [],
   "source": []
  },
  {
   "cell_type": "markdown",
   "id": "64d6a635",
   "metadata": {},
   "source": [
    "## Scope out new projects\n",
    "\n",
    "Or new ideas to improve business."
   ]
  },
  {
   "cell_type": "code",
   "execution_count": null,
   "id": "c437659b",
   "metadata": {},
   "outputs": [],
   "source": []
  },
  {
   "cell_type": "markdown",
   "id": "fafef7b5",
   "metadata": {},
   "source": [
    "---"
   ]
  }
 ],
 "metadata": {
  "hide_input": false,
  "kernelspec": {
   "display_name": "Python 3 (ipykernel)",
   "language": "python",
   "name": "python3"
  },
  "language_info": {
   "codemirror_mode": {
    "name": "ipython",
    "version": 3
   },
   "file_extension": ".py",
   "mimetype": "text/x-python",
   "name": "python",
   "nbconvert_exporter": "python",
   "pygments_lexer": "ipython3",
   "version": "3.9.12"
  },
  "toc": {
   "base_numbering": 1,
   "nav_menu": {},
   "number_sections": true,
   "sideBar": true,
   "skip_h1_title": false,
   "title_cell": "Table of Contents",
   "title_sidebar": "Contents",
   "toc_cell": false,
   "toc_position": {},
   "toc_section_display": true,
   "toc_window_display": false
  },
  "varInspector": {
   "cols": {
    "lenName": 16,
    "lenType": 16,
    "lenVar": 40
   },
   "kernels_config": {
    "python": {
     "delete_cmd_postfix": "",
     "delete_cmd_prefix": "del ",
     "library": "var_list.py",
     "varRefreshCmd": "print(var_dic_list())"
    },
    "r": {
     "delete_cmd_postfix": ") ",
     "delete_cmd_prefix": "rm(",
     "library": "var_list.r",
     "varRefreshCmd": "cat(var_dic_list()) "
    }
   },
   "types_to_exclude": [
    "module",
    "function",
    "builtin_function_or_method",
    "instance",
    "_Feature"
   ],
   "window_display": false
  }
 },
 "nbformat": 4,
 "nbformat_minor": 5
}
