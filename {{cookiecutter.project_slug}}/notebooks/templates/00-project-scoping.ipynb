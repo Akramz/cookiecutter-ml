{
 "cells": [
  {
   "cell_type": "markdown",
   "id": "9249699c",
   "metadata": {},
   "source": [
    "# Project Scoping"
   ]
  },
  {
   "cell_type": "code",
   "execution_count": 1,
   "id": "b5c4add8",
   "metadata": {},
   "outputs": [
    {
     "name": "stdout",
     "output_type": "stream",
     "text": [
      "Automatic pdb calling has been turned ON\n"
     ]
    }
   ],
   "source": [
    "%load_ext autoreload\n",
    "%autoreload 2\n",
    "%pdb on"
   ]
  },
  {
   "cell_type": "markdown",
   "id": "94eae58d",
   "metadata": {},
   "source": [
    "## Define the problem in business terms"
   ]
  },
  {
   "cell_type": "code",
   "execution_count": null,
   "id": "cf33aabf",
   "metadata": {},
   "outputs": [],
   "source": []
  },
  {
   "cell_type": "markdown",
   "id": "93a9aaf3",
   "metadata": {},
   "source": [
    "## What is the current solution by the client?"
   ]
  },
  {
   "cell_type": "code",
   "execution_count": null,
   "id": "5e71a7ca",
   "metadata": {},
   "outputs": [],
   "source": []
  },
  {
   "cell_type": "markdown",
   "id": "34ec3c34",
   "metadata": {},
   "source": [
    "## How is the current solution used?"
   ]
  },
  {
   "cell_type": "code",
   "execution_count": null,
   "id": "7314743e",
   "metadata": {},
   "outputs": [],
   "source": []
  },
  {
   "cell_type": "markdown",
   "id": "d8572568",
   "metadata": {},
   "source": [
    "## How does the client measure business performance?\n",
    "\n",
    "If it does not, suggest metric(s) and share with the client before proceeding."
   ]
  },
  {
   "cell_type": "code",
   "execution_count": null,
   "id": "e26da8fa",
   "metadata": {},
   "outputs": [],
   "source": []
  },
  {
   "cell_type": "markdown",
   "id": "28f1ebb0",
   "metadata": {},
   "source": [
    "## Is ML necessary or cost-effective?\n",
    "\n",
    "Investigate the usefulness of the following ML model advantages:\n",
    "\n",
    "- **Learning**: the system has the capacity to learn.\n",
    "- **Complex patterns**: there are patterns to learn, and they are complex.\n",
    "- **Existing data**: data is available, or it’s possible to collect data.\n",
    "- **Predictions**: it’s a predictive problem.\n",
    "- **Unseen data**: unseen data shares patterns with the training data.\n",
    "- **Scalable**: repetitive (lots of data), lots in the future too.\n",
    "- **Shifts**: The patterns are constantly changing."
   ]
  },
  {
   "cell_type": "code",
   "execution_count": null,
   "id": "a19c536f",
   "metadata": {},
   "outputs": [],
   "source": []
  },
  {
   "cell_type": "markdown",
   "id": "9df0039e",
   "metadata": {},
   "source": [
    "## List ML metrics that are linked to business metrics"
   ]
  },
  {
   "cell_type": "code",
   "execution_count": null,
   "id": "9ee6e472",
   "metadata": {},
   "outputs": [],
   "source": []
  },
  {
   "cell_type": "markdown",
   "id": "c626a3f8",
   "metadata": {},
   "source": [
    "## What type of ML problem is this?\n",
    "\n",
    "- Supervised\n",
    "    - Regression\n",
    "    - Classification\n",
    "        - Binary\n",
    "        - Multiclass (low/high)\n",
    "        - Multilabel\n",
    "- Unsupervised\n",
    "- Batch/online\n",
    "- Instance-based or model-based"
   ]
  },
  {
   "cell_type": "code",
   "execution_count": null,
   "id": "cf95d5ea",
   "metadata": {},
   "outputs": [],
   "source": []
  },
  {
   "cell_type": "markdown",
   "id": "8cb02019",
   "metadata": {},
   "source": [
    "## What objective function matches the ML metrics & business objectives?"
   ]
  },
  {
   "cell_type": "code",
   "execution_count": null,
   "id": "c5b54505",
   "metadata": {},
   "outputs": [],
   "source": []
  },
  {
   "cell_type": "markdown",
   "id": "b417823d",
   "metadata": {},
   "source": [
    "## How will you validate the model?\n",
    "\n",
    "Options:\n",
    "- Maintain a hold-out validation set (random; time-series split; etc..)\n",
    "- Corss validation\n",
    "    - Doing k-fold cross-validation.\n",
    "    - Doing iterated K-Fold validation."
   ]
  },
  {
   "cell_type": "code",
   "execution_count": null,
   "id": "2825008a",
   "metadata": {},
   "outputs": [],
   "source": []
  },
  {
   "cell_type": "markdown",
   "id": "f4bb9b7e",
   "metadata": {},
   "source": [
    "## How would you measure progress w.r.t. the client’s baseline?"
   ]
  },
  {
   "cell_type": "code",
   "execution_count": null,
   "id": "1cf35119",
   "metadata": {},
   "outputs": [],
   "source": []
  },
  {
   "cell_type": "markdown",
   "id": "1a5138ec",
   "metadata": {},
   "source": [
    "## What would be the min. performance needed to justify the deployment of your model?"
   ]
  },
  {
   "cell_type": "code",
   "execution_count": null,
   "id": "99dcbb8a",
   "metadata": {},
   "outputs": [],
   "source": []
  },
  {
   "cell_type": "markdown",
   "id": "19f465f7",
   "metadata": {},
   "source": [
    "---"
   ]
  }
 ],
 "metadata": {
  "hide_input": false,
  "kernelspec": {
   "display_name": "Python 3 (ipykernel)",
   "language": "python",
   "name": "python3"
  },
  "language_info": {
   "codemirror_mode": {
    "name": "ipython",
    "version": 3
   },
   "file_extension": ".py",
   "mimetype": "text/x-python",
   "name": "python",
   "nbconvert_exporter": "python",
   "pygments_lexer": "ipython3",
   "version": "3.9.12"
  },
  "toc": {
   "base_numbering": 1,
   "nav_menu": {},
   "number_sections": true,
   "sideBar": true,
   "skip_h1_title": false,
   "title_cell": "Table of Contents",
   "title_sidebar": "Contents",
   "toc_cell": false,
   "toc_position": {},
   "toc_section_display": true,
   "toc_window_display": false
  },
  "varInspector": {
   "cols": {
    "lenName": 16,
    "lenType": 16,
    "lenVar": 40
   },
   "kernels_config": {
    "python": {
     "delete_cmd_postfix": "",
     "delete_cmd_prefix": "del ",
     "library": "var_list.py",
     "varRefreshCmd": "print(var_dic_list())"
    },
    "r": {
     "delete_cmd_postfix": ") ",
     "delete_cmd_prefix": "rm(",
     "library": "var_list.r",
     "varRefreshCmd": "cat(var_dic_list()) "
    }
   },
   "types_to_exclude": [
    "module",
    "function",
    "builtin_function_or_method",
    "instance",
    "_Feature"
   ],
   "window_display": false
  }
 },
 "nbformat": 4,
 "nbformat_minor": 5
}
