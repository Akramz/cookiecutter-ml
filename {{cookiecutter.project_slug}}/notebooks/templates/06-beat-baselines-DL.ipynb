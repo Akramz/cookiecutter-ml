{
 "cells": [
  {
   "cell_type": "markdown",
   "id": "0aff79c8",
   "metadata": {},
   "source": [
    "# Overfit, Regularize, Fine-tune, & beat the baseline"
   ]
  },
  {
   "cell_type": "code",
   "execution_count": 1,
   "id": "57e02c90",
   "metadata": {},
   "outputs": [
    {
     "name": "stdout",
     "output_type": "stream",
     "text": [
      "Automatic pdb calling has been turned ON\n"
     ]
    }
   ],
   "source": [
    "%load_ext autoreload\n",
    "%autoreload 2\n",
    "%pdb on"
   ]
  },
  {
   "cell_type": "markdown",
   "id": "b215357e",
   "metadata": {},
   "source": [
    "## List candidate DL models\n",
    "\n",
    "- 3 Key choices:\n",
    "    - Last Layer activation\n",
    "    - Loss function\n",
    "    - Optimization Configuration"
   ]
  },
  {
   "cell_type": "code",
   "execution_count": null,
   "id": "0fae89f6",
   "metadata": {},
   "outputs": [],
   "source": []
  },
  {
   "cell_type": "markdown",
   "id": "add4f0fc",
   "metadata": {},
   "source": [
    "## Load the whole dataset"
   ]
  },
  {
   "cell_type": "code",
   "execution_count": null,
   "id": "cfb56523",
   "metadata": {},
   "outputs": [],
   "source": []
  },
  {
   "cell_type": "markdown",
   "id": "4f2215f3",
   "metadata": {},
   "source": [
    "## Start with a simple architecture"
   ]
  },
  {
   "cell_type": "code",
   "execution_count": null,
   "id": "98107897",
   "metadata": {},
   "outputs": [],
   "source": []
  },
  {
   "cell_type": "markdown",
   "id": "254a0da0",
   "metadata": {},
   "source": [
    "## Overfit a single batch"
   ]
  },
  {
   "cell_type": "code",
   "execution_count": null,
   "id": "6bbde45f",
   "metadata": {},
   "outputs": [],
   "source": []
  },
  {
   "cell_type": "markdown",
   "id": "98ec8e0b",
   "metadata": {},
   "source": [
    "## Find a good learning rate"
   ]
  },
  {
   "cell_type": "code",
   "execution_count": null,
   "id": "997d0bb3",
   "metadata": {},
   "outputs": [],
   "source": []
  },
  {
   "cell_type": "markdown",
   "id": "69052622",
   "metadata": {},
   "source": [
    "## Add more components\n",
    "\n",
    "- Add layers\n",
    "- Make the layers bigger\n",
    "- Train for more epochs\n",
    "- Always monitor for training/validation loss"
   ]
  },
  {
   "cell_type": "code",
   "execution_count": null,
   "id": "eb5956b8",
   "metadata": {},
   "outputs": [],
   "source": []
  },
  {
   "cell_type": "markdown",
   "id": "8ec523ea",
   "metadata": {},
   "source": [
    "## Regularize the model\n",
    "\n",
    "- Re-train different hyper-parameters multiple times.\n",
    "- Add dropout\n",
    "- Try different architectures: add or remove layers.\n",
    "- Add L1 and/or L2 regularization.\n",
    "- Change hyper-parameters to find the optimal configuration.\n",
    "    - units per layer\n",
    "    - optimizer `lr`\n",
    "    - `#layers`\n",
    "- Use Data Augmentation\n",
    "- Use Pre-trained Models to feature extract/fine-tune.\n",
    "- Conduct gradient clipping to avoid the exploding gradient effect (esp. for RNNs)"
   ]
  },
  {
   "cell_type": "code",
   "execution_count": null,
   "id": "aa5aaa48",
   "metadata": {},
   "outputs": [],
   "source": []
  },
  {
   "cell_type": "markdown",
   "id": "3a7e8632",
   "metadata": {},
   "source": [
    "## Beat the baseline"
   ]
  },
  {
   "cell_type": "code",
   "execution_count": null,
   "id": "29027c28",
   "metadata": {},
   "outputs": [],
   "source": []
  },
  {
   "cell_type": "code",
   "execution_count": null,
   "id": "92187d11",
   "metadata": {},
   "outputs": [],
   "source": []
  },
  {
   "cell_type": "markdown",
   "id": "62e19bdc",
   "metadata": {},
   "source": [
    "## Conduct error analysis & XAI on the erroneous predictions\n",
    "\n",
    "Options:\n",
    "- Plot a confusion matrix [[example](https://nbviewer.jupyter.org/github/justmarkham/scikit-learn-tips/blob/master/notebooks/20_plot_confusion_matrix.ipynb)]\n",
    "- Compare multiple ROC curves in a single plot [[example](https://nbviewer.jupyter.org/github/justmarkham/scikit-learn-tips/blob/master/notebooks/21_plot_roc_curve.ipynb)]\n",
    "- Use AUC to evaluate multiclass problems [[example](https://nbviewer.jupyter.org/github/justmarkham/scikit-learn-tips/blob/master/notebooks/32_multiclass_auc.ipynb)]\n",
    "- Ensemble models using `VotingClassifer` / `VotingRegressor` [[example](https://nbviewer.jupyter.org/github/justmarkham/scikit-learn-tips/blob/master/notebooks/46_ensembling.ipynb), [example](https://nbviewer.jupyter.org/github/justmarkham/scikit-learn-tips/blob/master/notebooks/47_ensemble_tuning.ipynb)]\n",
    "- Adapt this pattern to solve many Machine Learning problems [[pattern](https://nbviewer.jupyter.org/github/justmarkham/scikit-learn-tips/blob/master/notebooks/50_simple_ml_pattern.ipynb)]\n",
    "- Conduct Feature Importance\n",
    "- Test feature generalization\n",
    "    - Coverage is the % of the samples that has values for this feature in the data.\n",
    "    - Look into how feature distribution changes from train to test.\n",
    "\n",
    "Think about...\n",
    "- What data would a human use to avoid these errors?"
   ]
  },
  {
   "cell_type": "code",
   "execution_count": null,
   "id": "34a63e45",
   "metadata": {},
   "outputs": [],
   "source": []
  },
  {
   "cell_type": "markdown",
   "id": "a45db17c",
   "metadata": {},
   "source": [
    "## Optimize your implementation\n",
    "\n",
    "- Pytorch Lightning tips\n",
    "    - Use workers in DataLoaders: `num_workers = 4 * num_GPU`\n",
    "    - Pin memory: `DataLoader(dataset, pin_memory=True)`\n",
    "    - Avoid CPU ↔ GPU transfers `Bad: .cpu() / .item() / .numpy()`. `Good .detach()`\n",
    "    - Create tensors directly on GPU:`tensor.rand(2,2, device=torch.device('cuda:0'))`\n",
    "        - For inner tensors: `t = tensor.rand(2,2, device=self.device)`\n",
    "    - Use `DistributedDataParallel` not `DataParallel`\n",
    "    - Use 16-bit precision `Trainer(precision=16)`\n",
    "    - Profile your code: `Trainer(profile=True) / profiler=AdvancedProfiler(); trainer=Trainer(profiler=profiler)`\n",
    "- DL tips → When your NN is not working: [37 Reasons why your Neural Network is not working](https://blog.slavv.com/37-reasons-why-your-neural-network-is-not-working-4020854bd607)"
   ]
  },
  {
   "cell_type": "code",
   "execution_count": null,
   "id": "7dadd463",
   "metadata": {},
   "outputs": [],
   "source": []
  },
  {
   "cell_type": "markdown",
   "id": "6279b4ee",
   "metadata": {},
   "source": [
    "## Measure performance on the test set to estimate the generalization error"
   ]
  },
  {
   "cell_type": "code",
   "execution_count": null,
   "id": "7e07040c",
   "metadata": {},
   "outputs": [],
   "source": []
  },
  {
   "cell_type": "markdown",
   "id": "65c4b3e4",
   "metadata": {},
   "source": [
    "---"
   ]
  }
 ],
 "metadata": {
  "hide_input": false,
  "kernelspec": {
   "display_name": "Python 3 (ipykernel)",
   "language": "python",
   "name": "python3"
  },
  "language_info": {
   "codemirror_mode": {
    "name": "ipython",
    "version": 3
   },
   "file_extension": ".py",
   "mimetype": "text/x-python",
   "name": "python",
   "nbconvert_exporter": "python",
   "pygments_lexer": "ipython3",
   "version": "3.9.12"
  },
  "toc": {
   "base_numbering": 1,
   "nav_menu": {},
   "number_sections": true,
   "sideBar": true,
   "skip_h1_title": false,
   "title_cell": "Table of Contents",
   "title_sidebar": "Contents",
   "toc_cell": false,
   "toc_position": {},
   "toc_section_display": true,
   "toc_window_display": false
  },
  "varInspector": {
   "cols": {
    "lenName": 16,
    "lenType": 16,
    "lenVar": 40
   },
   "kernels_config": {
    "python": {
     "delete_cmd_postfix": "",
     "delete_cmd_prefix": "del ",
     "library": "var_list.py",
     "varRefreshCmd": "print(var_dic_list())"
    },
    "r": {
     "delete_cmd_postfix": ") ",
     "delete_cmd_prefix": "rm(",
     "library": "var_list.r",
     "varRefreshCmd": "cat(var_dic_list()) "
    }
   },
   "types_to_exclude": [
    "module",
    "function",
    "builtin_function_or_method",
    "instance",
    "_Feature"
   ],
   "window_display": false
  }
 },
 "nbformat": 4,
 "nbformat_minor": 5
}
