{
 "cells": [
  {
   "cell_type": "markdown",
   "id": "16bd3387",
   "metadata": {},
   "source": [
    "# Establish Baseline Performance"
   ]
  },
  {
   "cell_type": "code",
   "execution_count": 1,
   "id": "61068b6b",
   "metadata": {},
   "outputs": [
    {
     "name": "stdout",
     "output_type": "stream",
     "text": [
      "Automatic pdb calling has been turned ON\n"
     ]
    }
   ],
   "source": [
    "%load_ext autoreload\n",
    "%autoreload 2\n",
    "%pdb on"
   ]
  },
  {
   "cell_type": "markdown",
   "id": "750a8a77",
   "metadata": {},
   "source": [
    "## List business baselines"
   ]
  },
  {
   "cell_type": "code",
   "execution_count": null,
   "id": "5c63a344",
   "metadata": {},
   "outputs": [],
   "source": []
  },
  {
   "cell_type": "markdown",
   "id": "f3ab4029",
   "metadata": {},
   "source": [
    "## List baselines from the literature (academia)"
   ]
  },
  {
   "cell_type": "code",
   "execution_count": null,
   "id": "702d7ead",
   "metadata": {},
   "outputs": [],
   "source": []
  },
  {
   "cell_type": "markdown",
   "id": "ba991bad",
   "metadata": {},
   "source": [
    "## Select the baselines of interest\n",
    "\n",
    "Other options:\n",
    "- Random baseline (statistical power).\n",
    "- Human baselines.\n",
    "- Simple heuristics (rule-based)."
   ]
  },
  {
   "cell_type": "code",
   "execution_count": null,
   "id": "d7d6cde9",
   "metadata": {},
   "outputs": [],
   "source": []
  },
  {
   "cell_type": "markdown",
   "id": "76ea9423",
   "metadata": {},
   "source": [
    "## If data set ~ big → sample smaller datasets for experimentation"
   ]
  },
  {
   "cell_type": "code",
   "execution_count": null,
   "id": "7a4fe9d5",
   "metadata": {},
   "outputs": [],
   "source": []
  },
  {
   "cell_type": "markdown",
   "id": "fcc28bb1",
   "metadata": {},
   "source": [
    "## Establish each baseline’s performance"
   ]
  },
  {
   "cell_type": "code",
   "execution_count": null,
   "id": "1d74a0a7",
   "metadata": {},
   "outputs": [],
   "source": []
  },
  {
   "cell_type": "markdown",
   "id": "c577fb7d",
   "metadata": {},
   "source": [
    "---"
   ]
  }
 ],
 "metadata": {
  "hide_input": false,
  "kernelspec": {
   "display_name": "Python 3 (ipykernel)",
   "language": "python",
   "name": "python3"
  },
  "language_info": {
   "codemirror_mode": {
    "name": "ipython",
    "version": 3
   },
   "file_extension": ".py",
   "mimetype": "text/x-python",
   "name": "python",
   "nbconvert_exporter": "python",
   "pygments_lexer": "ipython3",
   "version": "3.9.12"
  },
  "toc": {
   "base_numbering": 1,
   "nav_menu": {},
   "number_sections": true,
   "sideBar": true,
   "skip_h1_title": false,
   "title_cell": "Table of Contents",
   "title_sidebar": "Contents",
   "toc_cell": false,
   "toc_position": {},
   "toc_section_display": true,
   "toc_window_display": false
  },
  "varInspector": {
   "cols": {
    "lenName": 16,
    "lenType": 16,
    "lenVar": 40
   },
   "kernels_config": {
    "python": {
     "delete_cmd_postfix": "",
     "delete_cmd_prefix": "del ",
     "library": "var_list.py",
     "varRefreshCmd": "print(var_dic_list())"
    },
    "r": {
     "delete_cmd_postfix": ") ",
     "delete_cmd_prefix": "rm(",
     "library": "var_list.r",
     "varRefreshCmd": "cat(var_dic_list()) "
    }
   },
   "types_to_exclude": [
    "module",
    "function",
    "builtin_function_or_method",
    "instance",
    "_Feature"
   ],
   "window_display": false
  }
 },
 "nbformat": 4,
 "nbformat_minor": 5
}
