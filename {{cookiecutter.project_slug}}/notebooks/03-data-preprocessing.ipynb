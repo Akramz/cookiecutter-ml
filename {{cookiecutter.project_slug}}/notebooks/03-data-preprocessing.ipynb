{
 "cells": [
  {
   "cell_type": "markdown",
   "id": "763593a4",
   "metadata": {},
   "source": [
    "# Data Preprocessing"
   ]
  },
  {
   "cell_type": "code",
   "execution_count": 1,
   "id": "3eeaad98",
   "metadata": {},
   "outputs": [
    {
     "name": "stdout",
     "output_type": "stream",
     "text": [
      "Automatic pdb calling has been turned ON\n"
     ]
    }
   ],
   "source": [
    "%load_ext autoreload\n",
    "%autoreload 2\n",
    "%pdb on"
   ]
  },
  {
   "cell_type": "markdown",
   "id": "3a25aa35",
   "metadata": {},
   "source": [
    "## Create a copy of the data"
   ]
  },
  {
   "cell_type": "code",
   "execution_count": null,
   "id": "64d17d9b",
   "metadata": {},
   "outputs": [],
   "source": []
  },
  {
   "cell_type": "markdown",
   "id": "2fb96509",
   "metadata": {},
   "source": [
    "## Data Cleaning\n",
    "\n",
    "Tasks:\n",
    "- Convert columns to their suitable data types\n",
    "- Handle missing values\n",
    "    - Determine why some values are missing?\n",
    "        - Missing not at random.\n",
    "        - Missing at random (but not random w.r.t. to observable variables).\n",
    "        - Missing completely at random.\n",
    "    - Delete either rows or columns\n",
    "    - Imputation: mean, median, or mode.\n",
    "- Investigate the source of outliers, fix, or remove them."
   ]
  },
  {
   "cell_type": "code",
   "execution_count": null,
   "id": "5601396a",
   "metadata": {},
   "outputs": [],
   "source": []
  },
  {
   "cell_type": "markdown",
   "id": "d9046466",
   "metadata": {},
   "source": [
    "## Implement data transforms\n",
    "\n",
    "Options:\n",
    "- Transform numerical columns by discretization.\n",
    "- Transform categorical columns (one-hot; embeddings).\n",
    "- Use `ColumnTransformer`\n",
    "    - `ColumnTransformer` to apply different preprocessing to different columns [[ex](https://nbviewer.jupyter.org/github/justmarkham/scikit-learn-tips/blob/master/notebooks/01_column_transformer.ipynb)]\n",
    "    - Seven ways to select columns using `ColumnTransformer` [[ex](https://nbviewer.jupyter.org/github/justmarkham/scikit-learn-tips/blob/master/notebooks/02_select_columns.ipynb)]\n",
    "    - Get the feature names output by a `ColumnTransformer` [[example](https://nbviewer.jupyter.org/github/justmarkham/scikit-learn-tips/blob/master/notebooks/38_get_feature_names.ipynb)]\n",
    "    - Passthrough some columns and drop others in a `ColumnTransformer` [[example](https://nbviewer.jupyter.org/github/justmarkham/scikit-learn-tips/blob/master/notebooks/42_passthrough_or_drop.ipynb)]\n",
    "- Use `Pipeline`\n",
    "    - `Pipeline` to chain together multiple steps [[example](https://nbviewer.jupyter.org/github/justmarkham/scikit-learn-tips/blob/master/notebooks/08_pipeline.ipynb)]\n",
    "    - Examine the intermediate steps in a `Pipeline` [[example](https://nbviewer.jupyter.org/github/justmarkham/scikit-learn-tips/blob/master/notebooks/13_examine_pipeline_steps.ipynb), [example](https://nbviewer.jupyter.org/github/justmarkham/scikit-learn-tips/blob/master/notebooks/30_examine_pipeline_steps.ipynb)]\n",
    "    - `cross_val_score` and `GridSearchCV` on a `Pipeline` [[example](https://nbviewer.jupyter.org/github/justmarkham/scikit-learn-tips/blob/master/notebooks/16_pipeline_cross_validation.ipynb)]\n",
    "    - Save a model or `Pipeline` using `joblib` [[example](https://nbviewer.jupyter.org/github/justmarkham/scikit-learn-tips/blob/master/notebooks/28_joblib.ipynb)]\n",
    "    - Create an interactive diagram of a `Pipeline` in Jupyter [[example](https://nbviewer.jupyter.org/github/justmarkham/scikit-learn-tips/blob/master/notebooks/37_pipeline_diagram.ipynb)]\n",
    "    - Access part of a `Pipeline` using slicing [[example](https://nbviewer.jupyter.org/github/justmarkham/scikit-learn-tips/blob/master/notebooks/48_pipeline_slicing.ipynb)]\n",
    "    - `FunctionTransformer` to convert functions into transformers [[example](https://nbviewer.jupyter.org/github/justmarkham/scikit-learn-tips/blob/master/notebooks/33_function_transformer.ipynb)]\n",
    "- Use `Encoder`\n",
    "    - Encode categorical features using `OneHotEncoder` or `OrdinalEncoder` [[ex](https://nbviewer.jupyter.org/github/justmarkham/scikit-learn-tips/blob/master/notebooks/06_encode_categorical_features.ipynb)]\n",
    "    - Handle unknown categories with `OneHotEncoder` by encoding them as zeros [[ex](https://nbviewer.jupyter.org/github/justmarkham/scikit-learn-tips/blob/master/notebooks/07_handle_unknown_categories.ipynb)]\n",
    "    - `OrdinalEncoder` instead of `OneHotEncoder` with tree-based models [[example](https://nbviewer.jupyter.org/github/justmarkham/scikit-learn-tips/blob/master/notebooks/43_ordinal_encoding_for_trees.ipynb)]\n",
    "    - Create feature interactions using `PolynomialFeatures` [[example](https://nbviewer.jupyter.org/github/justmarkham/scikit-learn-tips/blob/master/notebooks/45_feature_interactions.ipynb)]\n",
    "- Use `Imputing`\n",
    "    - Impute missing values using `KNNImputer` or `IterativeImputer` [[example](https://nbviewer.jupyter.org/github/justmarkham/scikit-learn-tips/blob/master/notebooks/11_new_imputers.ipynb)]\n",
    "    - Add a missing indicator to encode \"missingness\" as a feature [[example](https://nbviewer.jupyter.org/github/justmarkham/scikit-learn-tips/blob/master/notebooks/09_add_missing_indicator.ipynb)]\n",
    "    - `HistGradientBoostingClassifier` natively supports missing values [[example](https://nbviewer.jupyter.org/github/justmarkham/scikit-learn-tips/blob/master/notebooks/14_handle_missing_values.ipynb)]\n",
    "    - Two ways to impute missing values for a categorical feature [[example](https://nbviewer.jupyter.org/github/justmarkham/scikit-learn-tips/blob/master/notebooks/27_impute_categorical_features.ipynb)]"
   ]
  },
  {
   "cell_type": "code",
   "execution_count": null,
   "id": "46bcb749",
   "metadata": {},
   "outputs": [],
   "source": []
  },
  {
   "cell_type": "markdown",
   "id": "70cdf385",
   "metadata": {},
   "source": [
    "## Conduct Feature Engineering"
   ]
  },
  {
   "cell_type": "markdown",
   "id": "e1c3d698",
   "metadata": {},
   "source": [
    "#### Options\n",
    "- Scale the values: Min/max, standardize.\n",
    "- Normalize or transform distributions.\n",
    "- Discretize continuous features.\n",
    "- Encode categorical features: hashing, …\n",
    "- Conduct feature crossing.\n",
    "- Decompose features (Categorical, datetime, ...)\n",
    "- Add promising feature transformations ($log(x)$, $sqrt(x)$, $x^{2}$, ..)\n",
    "- Aggregate features into promising new features"
   ]
  },
  {
   "cell_type": "code",
   "execution_count": null,
   "id": "bbce268b",
   "metadata": {},
   "outputs": [],
   "source": []
  },
  {
   "cell_type": "markdown",
   "id": "26acf665",
   "metadata": {},
   "source": [
    "#### Tips\n",
    "- Split data by time into train/valid/test splits instead of doing it randomly.\n",
    "- If you oversample your data, do it after splitting.\n",
    "- Scale and normalize your data after splitting to avoid data leakage.\n",
    "- Use statistics from only the train split, instead of the entire data, to scale your features and handle missing values.\n",
    "- Understand how your data is generated, collected, and processed. Involve domain experts if possible.\n",
    "- Keep track of your data’s lineage.\n",
    "- Understand feature importance to your model.\n",
    "- Use features that generalize well.\n",
    "- Remove no longer useful features from your models."
   ]
  },
  {
   "cell_type": "code",
   "execution_count": null,
   "id": "e793d5a1",
   "metadata": {},
   "outputs": [],
   "source": []
  },
  {
   "cell_type": "markdown",
   "id": "d00ec195",
   "metadata": {},
   "source": [
    "## Check for data leakage \n",
    "\n",
    "Red flags:\n",
    "- Spliting time-correlated data randomly instead of by time\n",
    "- Scaling before splitting.\n",
    "- Filling in missing data with statistics from the test split\n",
    "- Poorly handling data duplication before splitting.\n",
    "- Group leaking where two items belong to the same conceptual “group” but one is in train while other is in test.\n",
    "- Leaking from the data generation process."
   ]
  },
  {
   "cell_type": "code",
   "execution_count": null,
   "id": "939243f3",
   "metadata": {},
   "outputs": [],
   "source": []
  },
  {
   "cell_type": "markdown",
   "id": "9c243897",
   "metadata": {},
   "source": [
    "<span style=\"color:gray\">\n",
    "\n",
    "## Preprocess for DL\n",
    "\n",
    "- Feature engineer before normalizing, especially for small datasets.\n",
    "- Normalize inputs by subtracting the mean and dividing by the std\n",
    "- Convert inputs to float32 tensors\n",
    "<span/>"
   ]
  },
  {
   "cell_type": "markdown",
   "id": "9d41f4e0",
   "metadata": {},
   "source": [
    "---"
   ]
  }
 ],
 "metadata": {
  "hide_input": false,
  "kernelspec": {
   "display_name": "Python 3 (ipykernel)",
   "language": "python",
   "name": "python3"
  },
  "language_info": {
   "codemirror_mode": {
    "name": "ipython",
    "version": 3
   },
   "file_extension": ".py",
   "mimetype": "text/x-python",
   "name": "python",
   "nbconvert_exporter": "python",
   "pygments_lexer": "ipython3",
   "version": "3.9.12"
  },
  "toc": {
   "base_numbering": 1,
   "nav_menu": {},
   "number_sections": true,
   "sideBar": true,
   "skip_h1_title": false,
   "title_cell": "Table of Contents",
   "title_sidebar": "Contents",
   "toc_cell": false,
   "toc_position": {},
   "toc_section_display": true,
   "toc_window_display": false
  },
  "varInspector": {
   "cols": {
    "lenName": 16,
    "lenType": 16,
    "lenVar": 40
   },
   "kernels_config": {
    "python": {
     "delete_cmd_postfix": "",
     "delete_cmd_prefix": "del ",
     "library": "var_list.py",
     "varRefreshCmd": "print(var_dic_list())"
    },
    "r": {
     "delete_cmd_postfix": ") ",
     "delete_cmd_prefix": "rm(",
     "library": "var_list.r",
     "varRefreshCmd": "cat(var_dic_list()) "
    }
   },
   "types_to_exclude": [
    "module",
    "function",
    "builtin_function_or_method",
    "instance",
    "_Feature"
   ],
   "window_display": false
  }
 },
 "nbformat": 4,
 "nbformat_minor": 5
}
